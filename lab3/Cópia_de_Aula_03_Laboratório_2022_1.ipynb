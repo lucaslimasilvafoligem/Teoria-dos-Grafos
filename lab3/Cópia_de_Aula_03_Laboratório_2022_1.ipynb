{
  "nbformat": 4,
  "nbformat_minor": 0,
  "metadata": {
    "colab": {
      "provenance": [],
      "collapsed_sections": [
        "cLuSWE2no1iX"
      ]
    },
    "kernelspec": {
      "name": "python3",
      "display_name": "Python 3"
    }
  },
  "cells": [
    {
      "cell_type": "markdown",
      "metadata": {
        "id": "cLuSWE2no1iX"
      },
      "source": [
        "# Laboratório\n",
        "\n",
        "Este notebook apresenta, exercícios introdutórios usando a JGraphT **Python bindings**\n",
        "cuja documentação encontra-se no link abaixo:\n",
        "\n",
        "https://python-jgrapht.readthedocs.io/en/jgrapht-1.5.0.3/\n",
        "\n",
        "Para realizar esta aula com sucesso, é fundamental ler/revisar/executar previamente o notebook da aula anterior:\n",
        "\n",
        "https://colab.research.google.com/drive/19NIGephKmvdYwdhgq8hwuFhvwwwTB7me?usp=sharing\n",
        "\n",
        "*Atenção:* Os blocos de código neste roteiro, especialmente referentes a instalação e importação e definições auxiliares, devem ser executados na sequência em que são apresentados abaixo, antes de cada uso deste notebook, a fim de garantir que as definições necessárias em cada trecho foram devidamente importadas/criadas."
      ]
    },
    {
      "cell_type": "markdown",
      "metadata": {
        "id": "IahffdhA-AEO"
      },
      "source": [
        "# Instalação e Importação de Pacotes e Arquivos\n"
      ]
    },
    {
      "cell_type": "code",
      "source": [
        "# Instalando a JgraphT para uso neste notebook\n",
        "!pip install jgrapht\n",
        "\n",
        "# Importando a JgraphT\n",
        "import jgrapht\n",
        "\n",
        "# Importanto funções para print de vértices e arestas\n",
        "!wget https://raw.githubusercontent.com/pdlmachado/GraphTheory-JGraphT/master/src/main/java/python/drawutil.py\n",
        "!wget https://raw.githubusercontent.com/pdlmachado/GraphTheory-JGraphT/master/src/main/java/python/importutil.py\n",
        "from drawutil import draw_graph\n",
        "from importutil import import_gml,read_multiple_CSV\n",
        "\n",
        "# Download de arquivos de grafos usados neste notebook\n",
        "!wget https://raw.githubusercontent.com/pdlmachado/GraphTheory-JGraphT/master/src/main/java/graphs/bp1.gml\n",
        "!wget https://raw.githubusercontent.com/pdlmachado/GraphTheory-JGraphT/master/src/main/java/graphs/cubo.gml\n",
        "!wget https://raw.githubusercontent.com/pdlmachado/GraphTheory-JGraphT/master/src/main/java/graphs/10cities.gml\n",
        "!wget https://raw.githubusercontent.com/pdlmachado/GraphTheory-JGraphT/master/src/main/java/graphs/K5.gml\n",
        "!wget https://raw.githubusercontent.com/pdlmachado/GraphTheory-JGraphT/master/src/main/java/graphs/K3.gml\n",
        "!wget https://raw.githubusercontent.com/pdlmachado/GraphTheory-JGraphT/master/src/main/java/graphs/K2.gml\n",
        "!wget https://raw.githubusercontent.com/pdlmachado/GraphTheory-JGraphT/master/src/main/java/datasets/nomes.csv\n",
        "!wget https://raw.githubusercontent.com/pdlmachado/GraphTheory-JGraphT/master/src/main/java/datasets/amigos.csv\n",
        "\n",
        "# Funções e pacotes para teste\n",
        "import unittest"
      ],
      "metadata": {
        "colab": {
          "base_uri": "https://localhost:8080/"
        },
        "id": "bbqRBUrMuk3j",
        "outputId": "9cb5123d-edec-41fe-c8d1-e1364a04cc03"
      },
      "execution_count": null,
      "outputs": [
        {
          "output_type": "stream",
          "name": "stdout",
          "text": [
            "Looking in indexes: https://pypi.org/simple, https://us-python.pkg.dev/colab-wheels/public/simple/\n",
            "Requirement already satisfied: jgrapht in /usr/local/lib/python3.7/dist-packages (1.5.0.3)\n",
            "--2022-10-13 16:11:52--  https://raw.githubusercontent.com/pdlmachado/GraphTheory-JGraphT/master/src/main/java/python/drawutil.py\n",
            "Resolving raw.githubusercontent.com (raw.githubusercontent.com)... 185.199.108.133, 185.199.109.133, 185.199.110.133, ...\n",
            "Connecting to raw.githubusercontent.com (raw.githubusercontent.com)|185.199.108.133|:443... connected.\n",
            "HTTP request sent, awaiting response... 200 OK\n",
            "Length: 6783 (6.6K) [text/plain]\n",
            "Saving to: ‘drawutil.py.1’\n",
            "\n",
            "drawutil.py.1       100%[===================>]   6.62K  --.-KB/s    in 0s      \n",
            "\n",
            "2022-10-13 16:11:52 (74.1 MB/s) - ‘drawutil.py.1’ saved [6783/6783]\n",
            "\n",
            "--2022-10-13 16:11:52--  https://raw.githubusercontent.com/pdlmachado/GraphTheory-JGraphT/master/src/main/java/python/importutil.py\n",
            "Resolving raw.githubusercontent.com (raw.githubusercontent.com)... 185.199.110.133, 185.199.111.133, 185.199.109.133, ...\n",
            "Connecting to raw.githubusercontent.com (raw.githubusercontent.com)|185.199.110.133|:443... connected.\n",
            "HTTP request sent, awaiting response... 200 OK\n",
            "Length: 7006 (6.8K) [text/plain]\n",
            "Saving to: ‘importutil.py.1’\n",
            "\n",
            "importutil.py.1     100%[===================>]   6.84K  --.-KB/s    in 0s      \n",
            "\n",
            "2022-10-13 16:11:52 (67.5 MB/s) - ‘importutil.py.1’ saved [7006/7006]\n",
            "\n",
            "--2022-10-13 16:11:52--  https://raw.githubusercontent.com/pdlmachado/GraphTheory-JGraphT/master/src/main/java/graphs/bp1.gml\n",
            "Resolving raw.githubusercontent.com (raw.githubusercontent.com)... 185.199.109.133, 185.199.110.133, 185.199.108.133, ...\n",
            "Connecting to raw.githubusercontent.com (raw.githubusercontent.com)|185.199.109.133|:443... connected.\n",
            "HTTP request sent, awaiting response... 200 OK\n",
            "Length: 2833 (2.8K) [text/plain]\n",
            "Saving to: ‘bp1.gml.1’\n",
            "\n",
            "bp1.gml.1           100%[===================>]   2.77K  --.-KB/s    in 0s      \n",
            "\n",
            "2022-10-13 16:11:52 (35.7 MB/s) - ‘bp1.gml.1’ saved [2833/2833]\n",
            "\n",
            "--2022-10-13 16:11:53--  https://raw.githubusercontent.com/pdlmachado/GraphTheory-JGraphT/master/src/main/java/graphs/cubo.gml\n",
            "Resolving raw.githubusercontent.com (raw.githubusercontent.com)... 185.199.108.133, 185.199.109.133, 185.199.110.133, ...\n",
            "Connecting to raw.githubusercontent.com (raw.githubusercontent.com)|185.199.108.133|:443... connected.\n",
            "HTTP request sent, awaiting response... 200 OK\n",
            "Length: 5750 (5.6K) [text/plain]\n",
            "Saving to: ‘cubo.gml.1’\n",
            "\n",
            "cubo.gml.1          100%[===================>]   5.62K  --.-KB/s    in 0s      \n",
            "\n",
            "2022-10-13 16:11:53 (56.4 MB/s) - ‘cubo.gml.1’ saved [5750/5750]\n",
            "\n",
            "--2022-10-13 16:11:53--  https://raw.githubusercontent.com/pdlmachado/GraphTheory-JGraphT/master/src/main/java/graphs/10cities.gml\n",
            "Resolving raw.githubusercontent.com (raw.githubusercontent.com)... 185.199.108.133, 185.199.109.133, 185.199.110.133, ...\n",
            "Connecting to raw.githubusercontent.com (raw.githubusercontent.com)|185.199.108.133|:443... connected.\n",
            "HTTP request sent, awaiting response... 200 OK\n",
            "Length: 3467 (3.4K) [text/plain]\n",
            "Saving to: ‘10cities.gml.1’\n",
            "\n",
            "10cities.gml.1      100%[===================>]   3.39K  --.-KB/s    in 0s      \n",
            "\n",
            "2022-10-13 16:11:53 (42.3 MB/s) - ‘10cities.gml.1’ saved [3467/3467]\n",
            "\n",
            "--2022-10-13 16:11:53--  https://raw.githubusercontent.com/pdlmachado/GraphTheory-JGraphT/master/src/main/java/graphs/K5.gml\n",
            "Resolving raw.githubusercontent.com (raw.githubusercontent.com)... 185.199.108.133, 185.199.109.133, 185.199.110.133, ...\n",
            "Connecting to raw.githubusercontent.com (raw.githubusercontent.com)|185.199.108.133|:443... connected.\n",
            "HTTP request sent, awaiting response... 200 OK\n",
            "Length: 2051 (2.0K) [text/plain]\n",
            "Saving to: ‘K5.gml.1’\n",
            "\n",
            "K5.gml.1            100%[===================>]   2.00K  --.-KB/s    in 0s      \n",
            "\n",
            "2022-10-13 16:11:53 (10.2 MB/s) - ‘K5.gml.1’ saved [2051/2051]\n",
            "\n",
            "--2022-10-13 16:11:53--  https://raw.githubusercontent.com/pdlmachado/GraphTheory-JGraphT/master/src/main/java/graphs/K3.gml\n",
            "Resolving raw.githubusercontent.com (raw.githubusercontent.com)... 185.199.111.133, 185.199.110.133, 185.199.108.133, ...\n",
            "Connecting to raw.githubusercontent.com (raw.githubusercontent.com)|185.199.111.133|:443... connected.\n",
            "HTTP request sent, awaiting response... 200 OK\n",
            "Length: 1050 (1.0K) [text/plain]\n",
            "Saving to: ‘K3.gml.1’\n",
            "\n",
            "K3.gml.1            100%[===================>]   1.03K  --.-KB/s    in 0s      \n",
            "\n",
            "2022-10-13 16:11:53 (8.75 MB/s) - ‘K3.gml.1’ saved [1050/1050]\n",
            "\n",
            "--2022-10-13 16:11:54--  https://raw.githubusercontent.com/pdlmachado/GraphTheory-JGraphT/master/src/main/java/graphs/K2.gml\n",
            "Resolving raw.githubusercontent.com (raw.githubusercontent.com)... 185.199.108.133, 185.199.109.133, 185.199.110.133, ...\n",
            "Connecting to raw.githubusercontent.com (raw.githubusercontent.com)|185.199.108.133|:443... connected.\n",
            "HTTP request sent, awaiting response... 200 OK\n",
            "Length: 655 [text/plain]\n",
            "Saving to: ‘K2.gml.1’\n",
            "\n",
            "K2.gml.1            100%[===================>]     655  --.-KB/s    in 0s      \n",
            "\n",
            "2022-10-13 16:11:54 (25.4 MB/s) - ‘K2.gml.1’ saved [655/655]\n",
            "\n",
            "--2022-10-13 16:11:54--  https://raw.githubusercontent.com/pdlmachado/GraphTheory-JGraphT/master/src/main/java/datasets/nomes.csv\n",
            "Resolving raw.githubusercontent.com (raw.githubusercontent.com)... 185.199.108.133, 185.199.109.133, 185.199.110.133, ...\n",
            "Connecting to raw.githubusercontent.com (raw.githubusercontent.com)|185.199.108.133|:443... connected.\n",
            "HTTP request sent, awaiting response... 200 OK\n",
            "Length: 94 [text/plain]\n",
            "Saving to: ‘nomes.csv.1’\n",
            "\n",
            "nomes.csv.1         100%[===================>]      94  --.-KB/s    in 0s      \n",
            "\n",
            "2022-10-13 16:11:54 (2.89 MB/s) - ‘nomes.csv.1’ saved [94/94]\n",
            "\n",
            "--2022-10-13 16:11:54--  https://raw.githubusercontent.com/pdlmachado/GraphTheory-JGraphT/master/src/main/java/datasets/amigos.csv\n",
            "Resolving raw.githubusercontent.com (raw.githubusercontent.com)... 185.199.110.133, 185.199.111.133, 185.199.109.133, ...\n",
            "Connecting to raw.githubusercontent.com (raw.githubusercontent.com)|185.199.110.133|:443... connected.\n",
            "HTTP request sent, awaiting response... 200 OK\n",
            "Length: 123 [text/plain]\n",
            "Saving to: ‘amigos.csv.1’\n",
            "\n",
            "amigos.csv.1        100%[===================>]     123  --.-KB/s    in 0s      \n",
            "\n",
            "2022-10-13 16:11:54 (7.95 MB/s) - ‘amigos.csv.1’ saved [123/123]\n",
            "\n"
          ]
        }
      ]
    },
    {
      "cell_type": "markdown",
      "source": [
        "# Conceitos Gerais explorados neste Roteiro"
      ],
      "metadata": {
        "id": "i_-jB8kWZb_M"
      }
    },
    {
      "cell_type": "markdown",
      "metadata": {
        "id": "z9aDFO7cG93X"
      },
      "source": [
        "## Iterando sobre vértices e arestas\n",
        "\n",
        "---\n",
        "\n",
        "\n",
        "A maneira mais simples de iterar sobre os vértices e arestas do grafo é utilizando as coleções de vértices e arestas retornadas pelos métodos *vertices* e *edges* da [interface Graph](https://python-jgrapht.readthedocs.io/en/jgrapht-1.5.0.3/api/interfaces.html#graph). A seguir, apresentamos exemplos usando o comando *for* e *list comprehension*."
      ]
    },
    {
      "cell_type": "code",
      "metadata": {
        "colab": {
          "base_uri": "https://localhost:8080/",
          "height": 422
        },
        "id": "a82VC_S1Hlpn",
        "outputId": "a6bc5c80-bced-4470-fa68-d279a8152e58"
      },
      "source": [
        "#@title  { run: \"auto\", vertical-output: true }\n",
        "filename = \"bp1.gml\" #@param [\"bp1.gml\", \"cubo.gml\", \"K5.gml\", \"K2.gml\", \"K3.gml\", \"10cities.gml\"]\n",
        "layout = \"fruchterman_reingold\" #@param [\"random\", \"circular\", \"fruchterman_reingold\", \"fruchterman_reingold_indexed\"]\n",
        "\n",
        "# Importando o grafo\n",
        "v_g1 = {} # atributos de vértices\n",
        "e_g1 = {} # atributos de arestas\n",
        "g1 = jgrapht.create_graph(directed=False)\n",
        "import_gml(g1,v_g1,e_g1,filename)\n",
        "draw_graph(g1,layout=layout,vlabel='label',v_attrs=v_g1)\n",
        "\n",
        "# Usando comando for para imprimir os graus dos vértices\n",
        "print(\"Graus dos vértices: \")\n",
        "for v in g1.vertices:\n",
        "  labelv = v_g1[v]['label']\n",
        "  print(f'd({labelv}): {g1.degree_of(v)}')\n",
        "\n",
        "# Usando list comprehension para imprimir os graus máximo, mínimo e médio\n",
        "degrees = [g1.degree_of(v) for v in g1.vertices]\n",
        "print(f\"\\nGrau máximo: {max(degrees)}, Grau mínimo: {min(degrees)}, Grau médio: {sum(degrees)/g1.number_of_vertices}\")"
      ],
      "execution_count": null,
      "outputs": [
        {
          "output_type": "display_data",
          "data": {
            "text/plain": [
              "<Figure size 432x288 with 1 Axes>"
            ],
            "image/png": "[encoded data removed]"
          },
          "metadata": {
            "needs_background": "light"
          }
        },
        {
          "output_type": "stream",
          "name": "stdout",
          "text": [
            "Graus dos vértices: \n",
            "d(a): 2\n",
            "d(b): 2\n",
            "d(c): 2\n",
            "d(d): 4\n",
            "d(e): 2\n",
            "d(f): 2\n",
            "d(g): 2\n",
            "\n",
            "Grau máximo: 4, Grau mínimo: 2, Grau médio: 2.2857142857142856\n"
          ]
        }
      ]
    },
    {
      "cell_type": "markdown",
      "source": [
        "# Exercícios\n"
      ],
      "metadata": {
        "id": "cB8uiT4aInjH"
      }
    },
    {
      "cell_type": "markdown",
      "source": [
        "## (01)\n",
        "\n",
        "Escreva uma função, **vizinhos**, que recebe um grafo *g* como entrada, um identificador *v* de um vértice deste grafo e retorna uma lista com os vizinhos de *v*.\n"
      ],
      "metadata": {
        "id": "89Uo65xht3mw"
      }
    },
    {
      "cell_type": "code",
      "source": [
        "#@title  { run: \"auto\", vertical-output: true }\n",
        "filename = \"bp1.gml\" #@param [\"bp1.gml\", \"cubo.gml\", \"K5.gml\", \"10cities.gml\", \"K2.gml\", \"K3.gml\"]\n",
        "layout = \"fruchterman_reingold\" #@param [\"random\", \"circular\", \"fruchterman_reingold\", \"fruchterman_reingold_indexed\"]\n",
        "\n",
        "def vizinhos (g,vid):\n",
        "  vertices = []\n",
        "  for i in g.edges_of(vid):\n",
        "    vertices.append(g.opposite(i, vid))\n",
        "  return vertices\n",
        "\n",
        "# Código para Teste\n",
        "v_g2 = {} # atributos de vértices\n",
        "e_g2 = {} # atributos de arestas\n",
        "g2 = jgrapht.create_graph(directed=False)\n",
        "import_gml(g2,v_g2,e_g2,filename)\n",
        "draw_graph(g2,layout=layout,vertexid_aslabel=True)\n",
        "for v in g2.vertices:\n",
        "  print(f'Vizinhos de {v}: {vizinhos(g2,v)}')\n"
      ],
      "metadata": {
        "id": "2JXL1XTwvR7u",
        "colab": {
          "base_uri": "https://localhost:8080/",
          "height": 425
        },
        "outputId": "3adb382c-e65c-411f-c749-dcfd12506edf"
      },
      "execution_count": null,
      "outputs": [
        {
          "output_type": "display_data",
          "data": {
            "text/plain": [
              "<Figure size 576x360 with 1 Axes>"
            ],
            "image/png": "[encoded data removed]"
          },
          "metadata": {
            "needs_background": "light"
          }
        },
        {
          "output_type": "stream",
          "name": "stdout",
          "text": [
            "Vizinhos de 0: [2, 1]\n",
            "Vizinhos de 1: [0, 3]\n",
            "Vizinhos de 2: [0, 3]\n",
            "Vizinhos de 3: [1, 2, 4, 5]\n",
            "Vizinhos de 4: [3, 6]\n",
            "Vizinhos de 5: [3, 6]\n",
            "Vizinhos de 6: [5, 4]\n"
          ]
        }
      ]
    },
    {
      "cell_type": "markdown",
      "metadata": {
        "id": "gpNNm8cioewL"
      },
      "source": [
        "## (02)\n",
        "\n",
        "Considere o programa abaixo que cria um grafo a partir de duas tabelas de dados no formato CSV. As tabelas estão definidas nos seguintes arquivos anexados neste notebook:\n",
        "- nomes.csv\n",
        "- amigos.csv\n",
        "\n",
        "onde o atributo *nome* em nomes.csv possui os nomes das pessoas os quais são utilizados em amigos.csv para representar as pessoas através dos atributos *nome1* e *nome2*.\n",
        "\n",
        "Complete o código abaixo, imprimindo na tela os nomes dos amigos diretos de uma certa *pessoa* selecionada no form, em ordem alfabética. O nome da pessoa está definido na variável **pessoa**.\n",
        "\n",
        "Exemplo:\n",
        "\n",
        "Se pessoa = \"Maria\", o código abaixo deve imprimir:\n",
        "\n",
        "Cristina\n",
        "\n",
        "Eduardo\n",
        "\n",
        "Joao\n",
        "\n",
        "**Dica**: Use a função *vizinhos* implementada no exercício anterior, mas fique atento: antes de invocar a função, é necessário obter o identificador do vértice associado ao nome na variável **pessoa**. Da mesma forma, os vizinhos retornados pela função devem ser impressos com seus nomes e não os identificadores de vértices. Estas informações podem ser obtidas consultando o dicionário de vértices.\n"
      ]
    },
    {
      "cell_type": "code",
      "metadata": {
        "id": "ZOwEadueD7_3",
        "colab": {
          "base_uri": "https://localhost:8080/",
          "height": 372
        },
        "outputId": "f31baa98-6341-43ec-9d6d-69db7b9c34d6"
      },
      "source": [
        "#@title  { vertical-output: true }\n",
        "#@title  { run: \"auto\", vertical-output: true }\n",
        "#@title  { vertical-output: true }\n",
        "\n",
        "\n",
        "\n",
        "pessoa = \"Cristina\" #@param [\"Joao\", \"Maria\", \"Eduardo\", \"Cristina\", \"Otavio\", \"Jose\"]\n",
        "# Criando a instância do grafo (multigrafo, não-direcionado, não-ponderado)\n",
        "# e seus dicionários vazios de vértices e arestas\n",
        "g2 = jgrapht.create_graph(directed=False,weighted=False,allowing_multiple_edges=True)\n",
        "v_g2 = {}\n",
        "e_g2 = {}\n",
        "read_multiple_CSV(g2,v_g2,e_g2,\n",
        "                  vfilename='nomes.csv',vid='nome',vlabel='nome',\n",
        "                  efilename='amigos.csv',esourceid='nome1',etargetid='nome2')\n",
        "draw_graph(g2,vlabel='nome',v_attrs=v_g2,width=11,height=11)\n",
        "\n",
        "amigos = []\n",
        "amigosf = []\n",
        "for e in v_g2:\n",
        "  if (v_g2[e][\"label\"] == pessoa):\n",
        "    for i in g2.edges_of(e):\n",
        "      amigos.append(g2.opposite(i, e))\n",
        "    break\n",
        "\n",
        "for b in amigos:\n",
        "  amigosf.append(v_g2[b][\"label\"])\n",
        "\n",
        "amigosf.sort()\n",
        "\n",
        "for b in amigosf:\n",
        "  print(b)\n",
        "\n",
        "\n",
        "# Escreva aqui o seu código\n",
        "\n"
      ],
      "execution_count": null,
      "outputs": [
        {
          "output_type": "display_data",
          "data": {
            "text/plain": [
              "<Figure size 576x360 with 1 Axes>"
            ],
            "image/png": "[encoded data removed]"
          },
          "metadata": {
            "needs_background": "light"
          }
        },
        {
          "output_type": "stream",
          "name": "stdout",
          "text": [
            "Eduardo\n",
            "Jose\n",
            "Maria\n",
            "Otavio\n"
          ]
        }
      ]
    },
    {
      "cell_type": "code",
      "source": [
        "#@title  { run: \"auto\", vertical-output: true }\n",
        "filename = \"bp1.gml\" #@param [\"bp1.gml\", \"cubo.gml\", \"K5.gml\", \"10cities.gml\", \"K2.gml\", \"K3.gml\"]\n",
        "layout = \"fruchterman_reingold\" #@param [\"random\", \"circular\", \"fruchterman_reingold\", \"fruchterman_reingold_indexed\"]\n",
        "\n",
        "def vizinhos (g,vid):\n",
        "  vertices = []\n",
        "  for i in g.edges_of(vid):\n",
        "    vertices.append(g.opposite(i, vid))\n",
        "  return vertices\n",
        "\n",
        "# Código para Teste\n",
        "v_g2 = {} # atributos de vértices\n",
        "e_g2 = {} # atributos de arestas\n",
        "g2 = jgrapht.create_graph(directed=False)\n",
        "import_gml(g2,v_g2,e_g2,filename)\n",
        "draw_graph(g2,layout=layout,vertexid_aslabel=True)\n",
        "for v in g2.vertices:\n",
        "  print(f'Vizinhos de {v}: {vizinhos(g2,v)}')\n"
      ],
      "metadata": {
        "colab": {
          "base_uri": "https://localhost:8080/",
          "height": 751
        },
        "outputId": "e9e30a3e-7603-499b-e451-3509f4102dd2",
        "id": "EOzcou_8iljn"
      },
      "execution_count": null,
      "outputs": [
        {
          "output_type": "display_data",
          "data": {
            "text/plain": [
              "<Figure size 792x792 with 1 Axes>"
            ],
            "image/png": "[encoded data removed]"
          },
          "metadata": {
            "needs_background": "light"
          }
        },
        {
          "output_type": "stream",
          "name": "stdout",
          "text": [
            "Vizinhos de 0: [2, 1]\n",
            "Vizinhos de 1: [0, 3]\n",
            "Vizinhos de 2: [0, 3]\n",
            "Vizinhos de 3: [1, 2, 4, 5]\n",
            "Vizinhos de 4: [3, 6]\n",
            "Vizinhos de 5: [3, 6]\n",
            "Vizinhos de 6: [5, 4]\n"
          ]
        }
      ]
    },
    {
      "cell_type": "code",
      "source": [
        "#@title  { run: \"auto\", vertical-output: true }\n",
        "filename = \"K5.gml\" #@param [\"bp1.gml\", \"cubo.gml\", \"K5.gml\", \"10cities.gml\", \"K2.gml\", \"K3.gml\"]\n",
        "layout = \"fruchterman_reingold\" #@param [\"random\", \"circular\", \"fruchterman_reingold\", \"fruchterman_reingold_indexed\"]\n",
        "\n",
        "def vizinhos (g,vid):\n",
        "  vertices = []\n",
        "  for i in g.edges_of(vid):\n",
        "    vertices.append(g.opposite(i, vid))\n",
        "  print(len(g.vertices) == 0 and len(g.edges) == 0)\n",
        "  return vertices\n",
        "\n",
        "# Código para Teste\n",
        "v_g2 = {} # atributos de vértices\n",
        "e_g2 = {} # atributos de arestas\n",
        "g2 = jgrapht.create_graph(directed=False)\n",
        "import_gml(g2,v_g2,e_g2,filename)\n",
        "draw_graph(g2,layout=layout,vertexid_aslabel=True)\n",
        "for v in g2.vertices:\n",
        "  print(f'Vizinhos de {v}: {vizinhos(g2,v)}')\n",
        "\n",
        "\n",
        "  #@title  { run: \"auto\", vertical-output: true }\n",
        "filename = \"10cities.gml\" #@param [\"bp1.gml\", \"cubo.gml\", \"K5.gml\", \"10cities.gml\", \"K2.gml\", \"K3.gml\"]\n",
        "layout = \"fruchterman_reingold\" #@param [\"random\", \"circular\", \"fruchterman_reingold\", \"fruchterman_reingold_indexed\"]\n",
        "\n",
        "def vizinhos (g,vid):\n",
        "  vertices = []\n",
        "  for i in g.edges_of(vid):\n",
        "    vertices.append(g.opposite(i, vid))\n",
        "\n",
        "  return vertices\n",
        "\n",
        "# Código para Teste\n",
        "v_g2 = {} # atributos de vértices\n",
        "e_g2 = {} # atributos de arestas\n",
        "g2 = jgrapht.create_graph(directed=False)\n",
        "import_gml(g2,v_g2,e_g2,filename)\n",
        "draw_graph(g2,layout=layout,vertexid_aslabel=True)\n",
        "for v in g2.vertices:\n",
        "  print(f'Vizinhos de {v}: {vizinhos(g2,v)}')\n",
        "\n"
      ],
      "metadata": {
        "colab": {
          "base_uri": "https://localhost:8080/",
          "height": 477
        },
        "outputId": "56e0368c-4ae2-476b-f847-82d0f4d3069c",
        "id": "d09b1OGmL2W0"
      },
      "execution_count": null,
      "outputs": [
        {
          "output_type": "display_data",
          "data": {
            "text/plain": [
              "<Figure size 576x360 with 1 Axes>"
            ],
            "image/png": "[encoded data removed]"
          },
          "metadata": {
            "needs_background": "light"
          }
        },
        {
          "output_type": "stream",
          "name": "stdout",
          "text": [
            "False\n",
            "Vizinhos de 0: [2, 1, 3, 4]\n",
            "False\n",
            "Vizinhos de 1: [2, 0, 3, 4]\n",
            "False\n",
            "Vizinhos de 2: [1, 0, 3, 4]\n",
            "False\n",
            "Vizinhos de 3: [0, 1, 2, 4]\n",
            "False\n",
            "Vizinhos de 4: [3, 1, 0, 2]\n"
          ]
        }
      ]
    },
    {
      "cell_type": "code",
      "source": [
        "#@title  { run: \"auto\", vertical-output: true }\n",
        "filename = \"10cities.gml\" #@param [\"bp1.gml\", \"cubo.gml\", \"K5.gml\", \"10cities.gml\", \"K2.gml\", \"K3.gml\"]\n",
        "layout = \"fruchterman_reingold\" #@param [\"random\", \"circular\", \"fruchterman_reingold\", \"fruchterman_reingold_indexed\"]\n",
        "\n",
        "def vizinhos (g,vid):\n",
        "  vertices = []\n",
        "  for i in g.edges_of(vid):\n",
        "    vertices.append(g.opposite(i, vid))\n",
        "\n",
        "  return vertices\n",
        "\n",
        "# Código para Teste\n",
        "v_g2 = {} # atributos de vértices\n",
        "e_g2 = {} # atributos de arestas\n",
        "g2 = jgrapht.create_graph(directed=False)\n",
        "import_gml(g2,v_g2,e_g2,filename)\n",
        "draw_graph(g2,layout=layout,vertexid_aslabel=True)\n",
        "for v in g2.vertices:\n",
        "  print(f'Vizinhos de {v}: {vizinhos(g2,v)}')\n"
      ],
      "metadata": {
        "colab": {
          "base_uri": "https://localhost:8080/",
          "height": 477
        },
        "outputId": "32134627-d0a1-4f6c-9d0b-e1d4a7e76746",
        "id": "hgPiNHumLlZ6"
      },
      "execution_count": null,
      "outputs": [
        {
          "output_type": "display_data",
          "data": {
            "text/plain": [
              "<Figure size 576x360 with 1 Axes>"
            ],
            "image/png": "[encoded data removed]"
          },
          "metadata": {
            "needs_background": "light"
          }
        },
        {
          "output_type": "stream",
          "name": "stdout",
          "text": [
            "Vizinhos de 0: [3]\n",
            "Vizinhos de 1: [2]\n",
            "Vizinhos de 2: [5, 1, 4]\n",
            "Vizinhos de 3: [0, 7, 9]\n",
            "Vizinhos de 4: [2, 6]\n",
            "Vizinhos de 5: [2, 8]\n",
            "Vizinhos de 6: [4]\n",
            "Vizinhos de 7: [8, 3]\n",
            "Vizinhos de 8: [5, 7]\n",
            "Vizinhos de 9: [3]\n"
          ]
        }
      ]
    },
    {
      "cell_type": "code",
      "source": [
        "from sys import breakpointhook\n",
        "from jgrapht.properties import has_multipleedges, has_selfloops\n",
        "\n",
        "grafoCrt = []\n",
        "def tipos_grafos (g):\n",
        "  if(len(g.edges)):\n",
        "    grafoCrt.append(\"Simples\")\n",
        "    grafoCrt.append(\"Nulo\")\n",
        "    print(\"ok\")\n",
        "    return grafoCrt\n",
        "\n",
        "  if(g.number_of_vertices == 1 and g.number_of_edges == 0):\n",
        "    grafoCrt.append(\"Simples\")\n",
        "    grafoCrt.append(\"Trivial\")\n",
        "    return grafoCrt\n",
        "\n",
        "  for i in g.number_of_vertices:\n",
        "    if(g.edges_between(i,i)):\n",
        "      grafoCrt.append(\"Pseudografo\")\n",
        "      return grafoCrt\n",
        "\n",
        "  for e in g.number_of_vertices:\n",
        "    for x in g.number_of_vertices:\n",
        "      if(g.edges_between(e,x)):\n",
        "        grafoCrt.append(\"Multigrafo\")\n",
        "        return grafoCrt\n",
        "\n",
        "  if(grafoCrt.len() == 0):\n",
        "    grafoCrt.append(\"Simples\")\n",
        "    return grafoCrt\n",
        ""
      ],
      "metadata": {
        "id": "cDqIR_T2JHdT"
      },
      "execution_count": null,
      "outputs": []
    },
    {
      "cell_type": "code",
      "source": [
        "from sys import breakpointhook\n",
        "from jgrapht.properties import has_multipleedges, has_selfloops\n",
        "\n",
        "grafoCrt = []\n",
        "def tipos_grafos (g):\n",
        "  if(len(g.edges)):\n",
        "    grafoCrt.append(\"Simples\")\n",
        "    grafoCrt.append(\"Nulo\")\n",
        "    print(\"ok\")\n",
        "    return grafoCrt\n",
        "\n",
        "  if(g.number_of_vertices == 1 and g.number_of_edges == 0):\n",
        "    grafoCrt.append(\"Simples\")\n",
        "    grafoCrt.append(\"Trivial\")\n",
        "    return grafoCrt\n",
        "\n",
        "  for i in g.number_of_vertices:\n",
        "    if(g.edges_between(i,i)):\n",
        "      grafoCrt.append(\"Pseudografo\")\n",
        "      return grafoCrt\n",
        "\n",
        "  for e in g.number_of_vertices:\n",
        "    for x in g.number_of_vertices:\n",
        "      if(g.edges_between(e,x)):\n",
        "        grafoCrt.append(\"Multigrafo\")\n",
        "        return grafoCrt\n",
        "\n",
        "  if(grafoCrt.len() == 0):\n",
        "    grafoCrt.append(\"Simples\")\n",
        "    return grafoCrt\n",
        ""
      ],
      "metadata": {
        "id": "GEMYb0lGJPqk"
      },
      "execution_count": null,
      "outputs": []
    },
    {
      "cell_type": "code",
      "source": [
        "from sys import breakpointhook\n",
        "from jgrapht.properties import has_multipleedges, has_selfloops\n",
        "\n",
        "grafoCrt = []\n",
        "def tipos_grafos (g):\n",
        "  if(len(g.edges)):\n",
        "    grafoCrt.append(\"Simples\")\n",
        "    grafoCrt.append(\"Nulo\")\n",
        "    print(\"ok\")\n",
        "    return grafoCrt\n",
        "\n",
        "  if(g.number_of_vertices == 1 and g.number_of_edges == 0):\n",
        "    grafoCrt.append(\"Simples\")\n",
        "    grafoCrt.append(\"Trivial\")\n",
        "    return grafoCrt\n",
        "\n",
        "  for i in g.number_of_vertices:\n",
        "    if(g.edges_between(i,i)):\n",
        "      grafoCrt.append(\"Pseudografo\")\n",
        "      return grafoCrt\n",
        "\n",
        "  for e in g.number_of_vertices:\n",
        "    for x in g.number_of_vertices:\n",
        "      if(g.edges_between(e,x)):\n",
        "        grafoCrt.append(\"Multigrafo\")\n",
        "        return grafoCrt\n",
        "\n",
        "  if(grafoCrt.len() == 0):\n",
        "    grafoCrt.append(\"Simples\")\n",
        "    return grafoCrt\n",
        ""
      ],
      "metadata": {
        "id": "NFz55wzGJF_D"
      },
      "execution_count": null,
      "outputs": []
    },
    {
      "cell_type": "markdown",
      "source": [
        "## (03)\n",
        "\n",
        "Escreva uma função que classifica um grafo não-direcionado, considerando as seguintes características: Simples, Multigrafo, Pseudografo, Trivial, Nulo. Um mesmo grafo pode possuir mais uma destas características. Por exemplo, o grafo Trivial é também um grafo Simples.\n",
        "A função **tipos_grafos** deve retornar uma lista com todas as classificações que podem ser dadas ao grafo recebido como parâmetro.\n",
        "\n",
        "**Dica**: Consulte o pacote [properties](https://python-jgrapht.readthedocs.io/en/jgrapht-1.5.0.3/api/properties.html#structural-properties) onde vai encontrar funções que indicam se o grafo possui arestas paralelas ou loops.\n"
      ],
      "metadata": {
        "id": "84vswiqgTlPL"
      }
    },
    {
      "cell_type": "code",
      "source": [
        "from sys import breakpointhook\n",
        "from jgrapht.properties import has_multipleedges, has_selfloops\n",
        "\n",
        "grafoCrt = []\n",
        "def tipos_grafos (g):\n",
        "  if(len(g.edges)):\n",
        "    grafoCrt.append(\"Simples\")\n",
        "    grafoCrt.append(\"Nulo\")\n",
        "    print(\"ok\")\n",
        "    return grafoCrt\n",
        "\n",
        "  if(g.number_of_vertices == 1 and g.number_of_edges == 0):\n",
        "    grafoCrt.append(\"Simples\")\n",
        "    grafoCrt.append(\"Trivial\")\n",
        "    return grafoCrt\n",
        "\n",
        "  for i in g.number_of_vertices:\n",
        "    if(g.edges_between(i,i)):\n",
        "      grafoCrt.append(\"Pseudografo\")\n",
        "      return grafoCrt\n",
        "\n",
        "  for e in g.number_of_vertices:\n",
        "    for x in g.number_of_vertices:\n",
        "      if(g.edges_between(e,x)):\n",
        "        grafoCrt.append(\"Multigrafo\")\n",
        "        return grafoCrt\n",
        "\n",
        "  if(grafoCrt.len() == 0):\n",
        "    grafoCrt.append(\"Simples\")\n",
        "    return grafoCrt\n",
        ""
      ],
      "metadata": {
        "id": "FDaLTzZ5Ua1v"
      },
      "execution_count": null,
      "outputs": []
    },
    {
      "cell_type": "code",
      "source": [
        "# Funções e pacotes para teste\n",
        "import unittest\n",
        "\n",
        "class TestSimpleGraph (unittest.TestCase):\n",
        "  def grafo_nulo (self):\n",
        "    g = jgrapht.create_graph(directed=False, weighted=False, allowing_multiple_edges=True, allowing_self_loops=True)\n",
        "    result = tipos_grafos(g)\n",
        "    self.assertCountEqual(result,[\"Simples\",\"Nulo\"])\n",
        "\n",
        "  def grafo_trivial (self):\n",
        "    g = jgrapht.create_graph(directed=False, weighted=False, allowing_multiple_edges=True, allowing_self_loops=True)\\\n",
        "    g.add_vertex(0)\n",
        "    result = tipos_grafos(g)\n",
        "    self.assertCountEqual(result,[\"Simples\",\"Trivial\"])\n",
        "\n",
        "  def grafo_comloop (self):\n",
        "    g = jgrapht.create_graph(directed=False, weighted=False, allowing_multiple_edges=True, allowing_self_loops=True)\n",
        "    g.add_vertex(0)\n",
        "    g.add_edge(0,0)\n",
        "    result = tipos_grafos(g)\n",
        "    self.assertCountEqual(result,[\"Pseudografo\"])\n",
        "\n",
        "  def grafo_comarestasparalelas (self):\n",
        "    g = jgrapht.create_graph(directed=False, weighted=False, allowing_multiple_edges=True, allowing_self_loops=True)\n",
        "    g.add_vertex(0)\n",
        "    g.add_vertex(1)\n",
        "    g.add_edge(0,1)\n",
        "    g.add_edge(1,0)\n",
        "    result = tipos_grafos(g)\n",
        "    self.assertCountEqual(result,[\"Multigrafo\"])\n",
        "\n",
        "  def grafo_simples (self):\n",
        "    g = jgrapht.create_graph(directed=False, weighted=False, allowing_multiple_edges=True, allowing_self_loops=True)\n",
        "    g.add_vertex(0)\n",
        "    g.add_vertex(1)\n",
        "    g.add_vertex(2)\n",
        "    g.add_edge(0,1)\n",
        "    g.add_edge(1,2)\n",
        "    result = tipos_grafos(g)\n",
        "    self.assertCountEqual(result,[\"Simples\"])\n",
        "\n",
        "# call your test\n",
        "suite = unittest.TestSuite()\n",
        "suite.addTest(TestSimpleGraph('grafo_nulo'))\n",
        "suite.addTest(TestSimpleGraph('grafo_trivial'))\n",
        "suite.addTest(TestSimpleGraph('grafo_comloop'))\n",
        "suite.addTest(TestSimpleGraph('grafo_comarestasparalelas'))\n",
        "suite.addTest(TestSimpleGraph('grafo_simples'))\n",
        "unittest.TextTestRunner(verbosity=2).run(suite)"
      ],
      "metadata": {
        "colab": {
          "base_uri": "https://localhost:8080/"
        },
        "id": "BF0TL50OWw7h",
        "outputId": "f6d4949c-d23b-4f5b-d29d-aa763b35fd18"
      },
      "execution_count": null,
      "outputs": [
        {
          "output_type": "stream",
          "name": "stderr",
          "text": [
            "grafo_nulo (__main__.TestSimpleGraph) ... ERROR\n",
            "grafo_trivial (__main__.TestSimpleGraph) ... ok\n",
            "grafo_comloop (__main__.TestSimpleGraph) ... FAIL\n",
            "grafo_comarestasparalelas (__main__.TestSimpleGraph) ... FAIL\n",
            "grafo_simples (__main__.TestSimpleGraph) ... FAIL\n",
            "\n",
            "======================================================================\n",
            "ERROR: grafo_nulo (__main__.TestSimpleGraph)\n",
            "----------------------------------------------------------------------\n",
            "Traceback (most recent call last):\n",
            "  File \"<ipython-input-23-1175effc9471>\", line 7, in grafo_nulo\n",
            "    result = tipos_grafos(g)\n",
            "  File \"<ipython-input-22-4d9f3ae6c917>\", line 16, in tipos_grafos\n",
            "    for i in g.number_of_vertices:\n",
            "TypeError: 'int' object is not iterable\n",
            "\n",
            "======================================================================\n",
            "FAIL: grafo_comloop (__main__.TestSimpleGraph)\n",
            "----------------------------------------------------------------------\n",
            "Traceback (most recent call last):\n",
            "  File \"<ipython-input-23-1175effc9471>\", line 21, in grafo_comloop\n",
            "    self.assertCountEqual(result,[\"Pseudografo\"])\n",
            "AssertionError: Element counts were not equal:\n",
            "First has 2, Second has 0:  'Simples'\n",
            "First has 1, Second has 0:  'Trivial'\n",
            "First has 1, Second has 0:  'Nulo'\n",
            "First has 0, Second has 1:  'Pseudografo'\n",
            "\n",
            "======================================================================\n",
            "FAIL: grafo_comarestasparalelas (__main__.TestSimpleGraph)\n",
            "----------------------------------------------------------------------\n",
            "Traceback (most recent call last):\n",
            "  File \"<ipython-input-23-1175effc9471>\", line 30, in grafo_comarestasparalelas\n",
            "    self.assertCountEqual(result,[\"Multigrafo\"])\n",
            "AssertionError: Element counts were not equal:\n",
            "First has 3, Second has 0:  'Simples'\n",
            "First has 1, Second has 0:  'Trivial'\n",
            "First has 2, Second has 0:  'Nulo'\n",
            "First has 0, Second has 1:  'Multigrafo'\n",
            "\n",
            "======================================================================\n",
            "FAIL: grafo_simples (__main__.TestSimpleGraph)\n",
            "----------------------------------------------------------------------\n",
            "Traceback (most recent call last):\n",
            "  File \"<ipython-input-23-1175effc9471>\", line 40, in grafo_simples\n",
            "    self.assertCountEqual(result,[\"Simples\"])\n",
            "AssertionError: Element counts were not equal:\n",
            "First has 4, Second has 1:  'Simples'\n",
            "First has 1, Second has 0:  'Trivial'\n",
            "First has 3, Second has 0:  'Nulo'\n",
            "\n",
            "----------------------------------------------------------------------\n",
            "Ran 5 tests in 0.021s\n",
            "\n",
            "FAILED (failures=3, errors=1)\n"
          ]
        },
        {
          "output_type": "execute_result",
          "data": {
            "text/plain": [
              "<unittest.runner.TextTestResult run=5 errors=1 failures=3>"
            ]
          },
          "metadata": {},
          "execution_count": 23
        }
      ]
    }
  ]
}